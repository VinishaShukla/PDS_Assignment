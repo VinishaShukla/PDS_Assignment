{
  "nbformat": 4,
  "nbformat_minor": 0,
  "metadata": {
    "colab": {
      "provenance": []
    },
    "kernelspec": {
      "name": "python3",
      "display_name": "Python 3"
    },
    "language_info": {
      "name": "python"
    }
  },
  "cells": [
    {
      "cell_type": "code",
      "execution_count": 3,
      "metadata": {
        "colab": {
          "base_uri": "https://localhost:8080/"
        },
        "id": "ULhzkt67U6lt",
        "outputId": "c2dd4d76-2f3d-4af1-bc08-745ccf81db0b"
      },
      "outputs": [
        {
          "output_type": "stream",
          "name": "stdout",
          "text": [
            "<class 'pandas.core.frame.DataFrame'>\n",
            "RangeIndex: 10 entries, 0 to 9\n",
            "Data columns (total 5 columns):\n",
            " #   Column             Non-Null Count  Dtype  \n",
            "---  ------             --------------  -----  \n",
            " 0   Height (Inches)    10 non-null     float64\n",
            " 1   Weight (Pounds)    10 non-null     int64  \n",
            " 2   Age                10 non-null     int64  \n",
            " 3   Grip strength      10 non-null     int64  \n",
            " 4   Frailty            10 non-null     object \n",
            "dtypes: float64(1), int64(3), object(1)\n",
            "memory usage: 528.0+ bytes\n",
            "None\n",
            "Index(['Height', 'Weight', 'Age', 'Grip_Strength', 'Frailty'], dtype='object')\n",
            "(10, 5)\n",
            "   Height  Weight  Age  Grip_Strength Frailty\n",
            "0    65.8     112   30           66.1       N\n",
            "1    71.5     136   19           68.3       N\n",
            "2    69.4     153   45           63.9       N\n",
            "3    68.2     142   22           61.7       Y\n",
            "4    67.8     144   29           52.9       Y\n",
            "Height           float64\n",
            "Weight             int64\n",
            "Age                int64\n",
            "Grip_Strength    float64\n",
            "Frailty           object\n",
            "dtype: object\n",
            "Height           False\n",
            "Weight           False\n",
            "Age              False\n",
            "Grip_Strength    False\n",
            "Frailty          False\n",
            "dtype: bool\n"
          ]
        }
      ],
      "source": [
        "import pandas as pd\n",
        "\n",
        "# Reading the CSV file\n",
        "frailty_data = pd.read_csv(\"/content/raw_frailty_data1.csv\")\n",
        "\n",
        "# Getting the info of the complete CSV\n",
        "print(frailty_data.info())\n",
        "\n",
        "# Renaming the columns\n",
        "frailty_data.columns = ['Height', 'Weight', 'Age', 'Grip_Strength', 'Frailty']\n",
        "\n",
        "frailty_data['Grip_Strength'] = round(frailty_data['Grip_Strength'] * 2.20462, 1)\n",
        "\n",
        "# Understanding the data and dimensions\n",
        "print(frailty_data.columns)\n",
        "print(frailty_data.shape)\n",
        "\n",
        "# Getting the top rows\n",
        "print(frailty_data.head())\n",
        "\n",
        "# Getting the data structure\n",
        "print(frailty_data.dtypes)\n",
        "\n",
        "# Converting 'Frailty' column to categorical type\n",
        "frailty_data['Frailty'] = frailty_data['Frailty'].astype('category')\n",
        "\n",
        "# Checking for missing values\n",
        "print(frailty_data.isna().any())\n",
        "\n",
        "# Writing the cleaned data to a new CSV file\n",
        "frailty_data.to_csv(\"clean_frailty_data.csv\", index=False)\n"
      ]
    },
    {
      "cell_type": "code",
      "source": [],
      "metadata": {
        "id": "907EjUybbvy4"
      },
      "execution_count": null,
      "outputs": []
    },
    {
      "cell_type": "code",
      "source": [],
      "metadata": {
        "id": "OM8MyKLXV_ry"
      },
      "execution_count": null,
      "outputs": []
    }
  ]
}