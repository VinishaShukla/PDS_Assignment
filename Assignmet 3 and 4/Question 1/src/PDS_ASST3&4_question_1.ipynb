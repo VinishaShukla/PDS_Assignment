{
  "nbformat": 4,
  "nbformat_minor": 0,
  "metadata": {
    "colab": {
      "provenance": []
    },
    "kernelspec": {
      "name": "python3",
      "display_name": "Python 3"
    },
    "language_info": {
      "name": "python"
    }
  },
  "cells": [
    {
      "cell_type": "code",
      "execution_count": 5,
      "metadata": {
        "colab": {
          "base_uri": "https://localhost:8080/"
        },
        "id": "5AKPWKbNQUg8",
        "outputId": "cb111276-a545-4522-8331-b7033981c66a"
      },
      "outputs": [
        {
          "output_type": "stream",
          "name": "stdout",
          "text": [
            "{'status': 200, 'time': '2024-04-16T23:42:27.856Z', 'results': [{'name': 'AP Poll', 'rankings': [{'rank': 1, 'team': 'Michigan', 'teamId': 1056}, {'rank': 2, 'team': 'Washington', 'teamId': 1320}, {'rank': 3, 'team': 'Texas', 'teamId': 1398}, {'rank': 4, 'team': 'Georgia', 'teamId': 1365}, {'rank': 5, 'team': 'Alabama', 'teamId': 1265}, {'rank': 6, 'team': 'Florida State', 'teamId': 1048}, {'rank': 6, 'team': 'Oregon', 'teamId': 1388}, {'rank': 8, 'team': 'Missouri', 'teamId': 1293}, {'rank': 9, 'team': 'Mississippi', 'teamId': 1138}, {'rank': 10, 'team': 'Ohio State', 'teamId': 1387}, {'rank': 11, 'team': 'Arizona', 'teamId': 1113}, {'rank': 12, 'team': 'LSU', 'teamId': 1375}, {'rank': 13, 'team': 'Penn State', 'teamId': 1302}, {'rank': 14, 'team': 'Notre Dame', 'teamId': 1064}, {'rank': 15, 'team': 'Oklahoma', 'teamId': 1065}, {'rank': 16, 'team': 'Oklahoma State', 'teamId': 1145}, {'rank': 17, 'team': 'Tennessee', 'teamId': 1397}, {'rank': 18, 'team': 'Kansas State', 'teamId': 1132}, {'rank': 19, 'team': 'Louisville', 'teamId': 1054}, {'rank': 20, 'team': 'Clemson', 'teamId': 1272}, {'rank': 21, 'team': 'NC State', 'teamId': 1141}, {'rank': 22, 'team': 'SMU', 'teamId': 1307}, {'rank': 23, 'team': 'Kansas', 'teamId': 1053}, {'rank': 24, 'team': 'Iowa', 'teamId': 1209}, {'rank': 25, 'team': 'Liberty', 'teamId': 1373}]}, {'name': 'Coaches Poll', 'rankings': [{'rank': 1, 'team': 'Michigan', 'teamId': 1056}, {'rank': 2, 'team': 'Washington', 'teamId': 1320}, {'rank': 3, 'team': 'Georgia', 'teamId': 1365}, {'rank': 4, 'team': 'Texas', 'teamId': 1398}, {'rank': 5, 'team': 'Alabama', 'teamId': 1265}, {'rank': 6, 'team': 'Florida State', 'teamId': 1048}, {'rank': 7, 'team': 'Oregon', 'teamId': 1388}, {'rank': 8, 'team': 'Missouri', 'teamId': 1293}, {'rank': 9, 'team': 'Mississippi', 'teamId': 1138}, {'rank': 10, 'team': 'Ohio State', 'teamId': 1387}, {'rank': 11, 'team': 'Arizona', 'teamId': 1113}, {'rank': 12, 'team': 'LSU', 'teamId': 1375}, {'rank': 13, 'team': 'Penn State', 'teamId': 1302}, {'rank': 14, 'team': 'Notre Dame', 'teamId': 1064}, {'rank': 15, 'team': 'Oklahoma', 'teamId': 1065}, {'rank': 16, 'team': 'Oklahoma State', 'teamId': 1145}, {'rank': 17, 'team': 'Tennessee', 'teamId': 1397}, {'rank': 18, 'team': 'Louisville', 'teamId': 1054}, {'rank': 19, 'team': 'Kansas State', 'teamId': 1132}, {'rank': 20, 'team': 'Clemson', 'teamId': 1272}, {'rank': 21, 'team': 'NC State', 'teamId': 1141}, {'rank': 22, 'team': 'Iowa', 'teamId': 1209}, {'rank': 23, 'team': 'Kansas', 'teamId': 1053}, {'rank': 24, 'team': 'SMU', 'teamId': 1307}, {'rank': 25, 'team': 'West Virginia', 'teamId': 1238}]}]}\n"
          ]
        }
      ],
      "source": [
        "import requests\n",
        "\n",
        "url = \"https://sportspage-feeds.p.rapidapi.com/rankings\"\n",
        "\n",
        "querystring = {\"league\":\"NCAAF\"}\n",
        "\n",
        "headers = {\n",
        "\t\"X-RapidAPI-Key\": \"ca4adfea25mshac7f6df7b9dfa70p1fb2cdjsn5fb2f22c98f2\",\n",
        "\t\"X-RapidAPI-Host\": \"sportspage-feeds.p.rapidapi.com\"\n",
        "}\n",
        "\n",
        "response = requests.get(url, headers=headers, params=querystring)\n",
        "\n",
        "print(response.json())"
      ]
    },
    {
      "cell_type": "markdown",
      "source": [],
      "metadata": {
        "id": "ONs1hLJRS2RJ"
      }
    },
    {
      "cell_type": "code",
      "source": [
        "import dash\n",
        "from dash import html, dcc, Input, Output\n",
        "import requests\n",
        "\n",
        "# Initialize Dash app\n",
        "app = dash.Dash(__name__)\n",
        "\n",
        "# Set up layout\n",
        "app.layout = html.Div([\n",
        "    html.H1(\"NCAAF Rankings\"),\n",
        "    dcc.Loading(id=\"loading\", children=[html.Div(id=\"output\")])\n",
        "])\n",
        "\n",
        "# Callback to fetch and display data\n",
        "@app.callback(\n",
        "    Output(\"output\", \"children\"),\n",
        "    [Input(\"loading\", \"loading_state\")]\n",
        ")\n",
        "def update_output(loading):\n",
        "    # Fetch data from API\n",
        "    url = \"https://sportspage-feeds.p.rapidapi.com/rankings\"\n",
        "    querystring = {\"league\": \"NCAAF\"}\n",
        "    headers = {\"X-RapidAPI-Key\": \"1342981e3emshc7a5f249e891318p1a214fjsn76e638f920ee\"}\n",
        "    try:\n",
        "        response = requests.get(url, headers=headers, params=querystring)\n",
        "        response.raise_for_status()\n",
        "        data = response.json()\n",
        "        # Process and format the data for display\n",
        "        rankings = [\n",
        "            html.Div([\n",
        "                html.H2(rank['name']),\n",
        "                html.Ul([html.Li(f\"{team['rank']}. {team['team']}\") for team in rank['rankings']])\n",
        "            ])\n",
        "            for rank in data['results']\n",
        "        ]\n",
        "\n",
        "        return rankings\n",
        "\n",
        "    except requests.exceptions.RequestException as e:\n",
        "        return html.Div(f\"Error fetching data: {e}\")\n",
        "\n",
        "# Run the app\n",
        "if __name__ == '__main__':\n",
        "    app.run_server(debug=True)"
      ],
      "metadata": {
        "colab": {
          "base_uri": "https://localhost:8080/",
          "height": 671
        },
        "id": "b4vctFBYUSVl",
        "outputId": "2dea5602-9e33-4756-90f0-66141d9db523"
      },
      "execution_count": 7,
      "outputs": [
        {
          "output_type": "display_data",
          "data": {
            "text/plain": [
              "<IPython.core.display.Javascript object>"
            ],
            "application/javascript": [
              "(async (port, path, width, height, cache, element) => {\n",
              "    if (!google.colab.kernel.accessAllowed && !cache) {\n",
              "      return;\n",
              "    }\n",
              "    element.appendChild(document.createTextNode(''));\n",
              "    const url = await google.colab.kernel.proxyPort(port, {cache});\n",
              "    const iframe = document.createElement('iframe');\n",
              "    iframe.src = new URL(path, url).toString();\n",
              "    iframe.height = height;\n",
              "    iframe.width = width;\n",
              "    iframe.style.border = 0;\n",
              "    iframe.allow = [\n",
              "        'accelerometer',\n",
              "        'autoplay',\n",
              "        'camera',\n",
              "        'clipboard-read',\n",
              "        'clipboard-write',\n",
              "        'gyroscope',\n",
              "        'magnetometer',\n",
              "        'microphone',\n",
              "        'serial',\n",
              "        'usb',\n",
              "        'xr-spatial-tracking',\n",
              "    ].join('; ');\n",
              "    element.appendChild(iframe);\n",
              "  })(8050, \"/\", \"100%\", 650, false, window.element)"
            ]
          },
          "metadata": {}
        }
      ]
    }
  ]
}